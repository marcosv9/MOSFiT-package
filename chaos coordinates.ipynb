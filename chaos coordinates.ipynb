{
 "cells": [
  {
   "cell_type": "code",
   "execution_count": 1,
   "id": "4407b63b",
   "metadata": {},
   "outputs": [],
   "source": [
    "import chaosmagpy as cp\n",
    "import main_functions as mvs\n",
    "import data_processing_tools as dpt\n",
    "import matplotlib.pyplot as plt\n",
    "import matplotlib.dates as md"
   ]
  },
  {
   "cell_type": "code",
   "execution_count": 3,
   "id": "99756094",
   "metadata": {},
   "outputs": [
    {
     "name": "stdout",
     "output_type": "stream",
     "text": [
      "Reading files from VSS...\n"
     ]
    }
   ],
   "source": [
    "df = mvs.load_INTERMAGNET_files('VSS','2010-01-01','2015-12-31')"
   ]
  },
  {
   "cell_type": "code",
   "execution_count": 8,
   "id": "ca7c3638",
   "metadata": {},
   "outputs": [],
   "source": [
    "x,y,z = cp.coordinate_utils.cartesian_to_spherical(df['X'].values, df['Y'].values, df['Z'].values)"
   ]
  },
  {
   "cell_type": "code",
   "execution_count": 20,
   "id": "ccb068e8",
   "metadata": {},
   "outputs": [
    {
     "name": "stdout",
     "output_type": "stream",
     "text": [
      "Accessing http://www.spacecenter.dk/files/magnetic-models/RC/current/.\n",
      "Downloading RC-index file \"RC_1997-2022_augmented.dat\" (last modified on 2022-09-29 10:00).\n",
      "Successfully saved to C:\\Users\\marco\\Downloads\\Thesis_notebooks\\SV_project\\Data\\chaos rc\\newest_RC_file.h5.\n",
      "Initiating geomagnetic field computation for VSS.\n",
      "Computing core field.\n",
      "Computing crustal field up to degree 110.\n",
      "Computing field due to external sources, incl. induced field: GSM.\n"
     ]
    }
   ],
   "source": [
    "df_chaos = dpt.chaos_model_prediction('VSS','2010-01-01','2015-12-31')"
   ]
  },
  {
   "cell_type": "code",
   "execution_count": 19,
   "id": "e3f24aef",
   "metadata": {},
   "outputs": [
    {
     "data": {
      "text/plain": [
       "<AxesSubplot:xlabel='Date'>"
      ]
     },
     "execution_count": 19,
     "metadata": {},
     "output_type": "execute_result"
    },
    {
     "data": {
      "image/png": "[encoded data removed]",
      "text/plain": [
       "<Figure size 432x288 with 1 Axes>"
      ]
     },
     "metadata": {
      "needs_background": "light"
     },
     "output_type": "display_data"
    }
   ],
   "source": [
    "df['Z'].plot()"
   ]
  },
  {
   "cell_type": "code",
   "execution_count": 36,
   "id": "92025a32",
   "metadata": {},
   "outputs": [],
   "source": [
    "def plot_sv(station,\n",
    "            starttime,\n",
    "            endtime,\n",
    "            files_path = None,\n",
    "            df_station = None,\n",
    "            apply_percentage: bool = False,\n",
    "            plot_chaos: bool = False,\n",
    "            chaos_correction: bool = False,\n",
    "            save_plot: bool = False\n",
    "            ):\n",
    "    \n",
    "    \n",
    "\n",
    "    \n",
    "    if df_station == None:\n",
    "        \n",
    "        df_station = mvs.load_INTERMAGNET_files(station,\n",
    "                                                starttime,\n",
    "                                                endtime,\n",
    "                                                files_path)\n",
    "        \n",
    "    if chaos_correction == True:    \n",
    "        \n",
    "        df_station, df_chaos= dpt.external_field_correction_chaos_model(station,\n",
    "                                                                        starttime,\n",
    "                                                                        endtime,\n",
    "                                                                        df_station,\n",
    "                                                                        files_path = files_path,\n",
    "                                                                        df_chaos=None\n",
    "                                                                        )\n",
    "    # calculating sv\n",
    "    \n",
    "    df_sv = dpt.calculate_SV(df_station, apply_percentage=apply_percentage)\n",
    "        \n",
    "    if plot_chaos == True:\n",
    "        \n",
    "        df_sv_chaos = dpt.calculate_SV(df_chaos, columns = ['X_int', 'Y_int', 'Z_int'])\n",
    "        \n",
    "\n",
    "    \n",
    "    fig, axes = plt.subplots(3,1 ,figsize = (14,12))\n",
    "    plt.suptitle(f'{station.upper()} Secular Variation', y = 0.91)\n",
    "    plt.subplots_adjust(hspace=0.22)\n",
    "    if plot_chaos == True:\n",
    "        for ax, col, cols in zip(axes.flatten(), df_sv.columns, ['X_int','Y_int','Z_int']):\n",
    "            ax.plot(df_sv_chaos[cols], color = 'red')\n",
    "            ax.plot(df_sv[col], 'o', color = 'black')\n",
    "        #if First_QD_data != []:\n",
    "        #    SV_QD_first_data = datetime.strptime(First_QD_data, '%Y-%m-%d') + pd.DateOffset(months=-6)\n",
    "        #    ax.plot(df_sv[col].loc[df_sv.index > SV_QD_first_data], 'o', color = 'green', label = 'QD-data')\n",
    "            ax.set_ylabel(f'{df[col].name} SV (nT/Yr)')\n",
    "        #if str(df_sv.index[-1]) >= '2021-09-30':\n",
    "        #    ax.axvline(x = datetime.strptime('2022-03-30', '%Y-%m-%d') + pd.DateOffset(months=-6),\n",
    "        #           color = 'blue', label = 'RC-index limit')\n",
    "        \n",
    "            ax.xaxis.set_major_locator(md.MonthLocator(interval=12)) \n",
    "            ax.xaxis.set_major_formatter(md.DateFormatter('%Y-%m'))\n",
    "            ax.xaxis.set_tick_params(labelrotation = 30, width=2)\n",
    "            ax.xaxis.get_ticklocs(minor=True)\n",
    "            ax.minorticks_on()\n",
    "            ax.yaxis.set_tick_params(which='minor', bottom=False)\n",
    "            ax.grid(alpha = 0.3)\n",
    "        \n",
    "            ax.set_xlim(df_sv[col].index[0], df_sv[col].index[-1])\n",
    "            ax.set_xticks(list(df_sv_chaos.index[0:-1:12])[0:-1] + [df_sv.index[-1]])\n",
    "            ax.legend()\n",
    "    else:\n",
    "        for ax, col in zip(axes.flatten(), df_sv.columns, ['X_int','Y_int','Z_int']):\n",
    "            ax.plot(df_sv[col], 'o', color = 'black')\n",
    "        #if First_QD_data != []:\n",
    "        #    SV_QD_first_data = datetime.strptime(First_QD_data, '%Y-%m-%d') + pd.DateOffset(months=-6)\n",
    "        #    ax.plot(df_sv[col].loc[df_sv.index > SV_QD_first_data], 'o', color = 'green', label = 'QD-data')\n",
    "            ax.set_ylabel(f'{df[col].name} SV (nT/Yr)')\n",
    "        #if str(df_sv.index[-1]) >= '2021-09-30':\n",
    "        #    ax.axvline(x = datetime.strptime('2022-03-30', '%Y-%m-%d') + pd.DateOffset(months=-6),\n",
    "        #           color = 'blue', label = 'RC-index limit')\n",
    "        \n",
    "            ax.xaxis.set_major_locator(md.MonthLocator(interval=12)) \n",
    "            ax.xaxis.set_major_formatter(md.DateFormatter('%Y-%m'))\n",
    "            ax.xaxis.set_tick_params(labelrotation = 30, width=2)\n",
    "            ax.xaxis.get_ticklocs(minor=True)\n",
    "            ax.minorticks_on()\n",
    "            ax.yaxis.set_tick_params(which='minor', bottom=False)\n",
    "            ax.grid(alpha = 0.3)\n",
    "        \n",
    "            ax.set_xlim(df_sv[col].index[0], df_sv[col].index[-1])\n",
    "            ax.set_xticks(list(df_sv.index[0:-1:12])[0:-1] + [df_sv.index[-1]])\n",
    "        ax.legend()\n",
    "    #plt.savefig(f'GFZ_stay/{station}_sv_corrected.jpeg', dpi = 300, bbox_inches = 'tight')\n",
    "    #plt.show()\n",
    "        \n",
    "        \n",
    "        \n",
    "        \n",
    "        \n",
    "        \n",
    "        \n",
    "        \n",
    "        \n",
    "        \n",
    "        \n",
    "        "
   ]
  },
  {
   "cell_type": "code",
   "execution_count": 2,
   "id": "f0855bfd",
   "metadata": {},
   "outputs": [
    {
     "ename": "NameError",
     "evalue": "name 'plot_sv' is not defined",
     "output_type": "error",
     "traceback": [
      "\u001b[1;31m---------------------------------------------------------------------------\u001b[0m",
      "\u001b[1;31mNameError\u001b[0m                                 Traceback (most recent call last)",
      "Input \u001b[1;32mIn [2]\u001b[0m, in \u001b[0;36m<cell line: 1>\u001b[1;34m()\u001b[0m\n\u001b[1;32m----> 1\u001b[0m \u001b[43mplot_sv\u001b[49m(\u001b[38;5;124m'\u001b[39m\u001b[38;5;124mVSS\u001b[39m\u001b[38;5;124m'\u001b[39m,\u001b[38;5;124m'\u001b[39m\u001b[38;5;124m2010-01-01\u001b[39m\u001b[38;5;124m'\u001b[39m,\u001b[38;5;124m'\u001b[39m\u001b[38;5;124m2020-12-31\u001b[39m\u001b[38;5;124m'\u001b[39m,df_station\u001b[38;5;241m=\u001b[39m\u001b[38;5;28;01mNone\u001b[39;00m,plot_chaos\u001b[38;5;241m=\u001b[39m\u001b[38;5;28;01mTrue\u001b[39;00m,chaos_correction\u001b[38;5;241m=\u001b[39m\u001b[38;5;28;01mTrue\u001b[39;00m)\n",
      "\u001b[1;31mNameError\u001b[0m: name 'plot_sv' is not defined"
     ]
    }
   ],
   "source": [
    "plot_sv('VSS','2010-01-01','2020-12-31',df_station=None,plot_chaos=True,chaos_correction=True)"
   ]
  },
  {
   "cell_type": "code",
   "execution_count": null,
   "id": "7d3a4191",
   "metadata": {},
   "outputs": [],
   "source": []
  }
 ],
 "metadata": {
  "kernelspec": {
   "display_name": "Python 3 (ipykernel)",
   "language": "python",
   "name": "python3"
  },
  "language_info": {
   "codemirror_mode": {
    "name": "ipython",
    "version": 3
   },
   "file_extension": ".py",
   "mimetype": "text/x-python",
   "name": "python",
   "nbconvert_exporter": "python",
   "pygments_lexer": "ipython3",
   "version": "3.9.12"
  }
 },
 "nbformat": 4,
 "nbformat_minor": 5
}
