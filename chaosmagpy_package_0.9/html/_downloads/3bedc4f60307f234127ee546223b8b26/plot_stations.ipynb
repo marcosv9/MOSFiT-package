{
  "cells": [
    {
      "cell_type": "code",
      "execution_count": null,
      "metadata": {
        "collapsed": false
      },
      "outputs": [],
      "source": [
        "%matplotlib inline"
      ]
    },
    {
      "cell_type": "markdown",
      "metadata": {},
      "source": [
        "\n# Evaluate CHAOS at a Ground Observatory\n\nCompute a time series of the first time-derivative of the field components\n(SV) given by CHAOS.\n\nIn this example the location of the ground observatory in Niemegk (Germany)\nis used. Also, the spherical harmonic coefficients of the SV are truncated\nat degree 16.\n"
      ]
    },
    {
      "cell_type": "code",
      "execution_count": null,
      "metadata": {
        "collapsed": false
      },
      "outputs": [],
      "source": [
        "import chaosmagpy as cp\nimport matplotlib.pyplot as plt\nimport numpy as np\n\nmodel = cp.CHAOS.from_mat('CHAOS-6-x9.mat')  # load the mat-file of CHAOS-6-x9\n\ndata = {\n    'Time': np.linspace(cp.data_utils.mjd2000(1998, 1, 1),\n                        cp.data_utils.mjd2000(2018, 1, 1), 500),\n    'Radius': 6371.2,  # mean radius of Earth's surface in km\n    'Theta': 37.93,  # colatitude in degrees\n    'Phi': 12.68  # longitude in degrees\n}\n\n# compute SV components with CHAOS up to degree 16\ndBr, dBt, dBp = model.synth_values_tdep(\n    data['Time'], data['Radius'], data['Theta'], data['Phi'], nmax=16, deriv=1)\n\nfig, axes = plt.subplots(1, 3, figsize=(12, 5))\nfig.subplots_adjust(\n    top=0.874,\n    bottom=0.117,\n    left=0.061,\n    right=0.985,\n    hspace=0.2,\n    wspace=0.242\n)\n\nfig.suptitle(f'SV components at Niemegk given by {model.name}', fontsize=14)\n\naxes[0].plot(cp.data_utils.timestamp(data['Time']), dBr)\naxes[1].plot(cp.data_utils.timestamp(data['Time']), dBt)\naxes[2].plot(cp.data_utils.timestamp(data['Time']), dBp)\n\naxes[0].set_title('d$B_r$/d$t$')\naxes[1].set_title('d$B_t$/d$t$')\naxes[2].set_title('d$B_p$/d$t$')\n\nfor ax in axes:\n    ax.grid()\n    ax.set_xlabel('Year')\n    ax.set_ylabel('nT/yr')\n\nplt.show()"
      ]
    }
  ],
  "metadata": {
    "kernelspec": {
      "display_name": "Python 3",
      "language": "python",
      "name": "python3"
    },
    "language_info": {
      "codemirror_mode": {
        "name": "ipython",
        "version": 3
      },
      "file_extension": ".py",
      "mimetype": "text/x-python",
      "name": "python",
      "nbconvert_exporter": "python",
      "pygments_lexer": "ipython3",
      "version": "3.9.6"
    }
  },
  "nbformat": 4,
  "nbformat_minor": 0
}