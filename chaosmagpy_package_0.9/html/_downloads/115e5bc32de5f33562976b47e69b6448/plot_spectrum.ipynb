{
  "cells": [
    {
      "cell_type": "code",
      "execution_count": null,
      "metadata": {
        "collapsed": false
      },
      "outputs": [],
      "source": [
        "%matplotlib inline"
      ]
    },
    {
      "cell_type": "markdown",
      "metadata": {},
      "source": [
        "\n# Spatial Power Spectra\n\nCompute and plot the spatial power spectrum of the time-dependent internal\nfield given by CHAOS.\n"
      ]
    },
    {
      "cell_type": "code",
      "execution_count": null,
      "metadata": {
        "collapsed": false
      },
      "outputs": [],
      "source": [
        "import chaosmagpy as cp\nimport matplotlib.pyplot as plt\nimport matplotlib.ticker as ticker\nimport numpy as np\n\nmodel = cp.CHAOS.from_mat('CHAOS-6-x9.mat')  # load the mat-file of CHAOS-6-x9\n\nnmax = 20\ntime = cp.data_utils.mjd2000(2018, 1, 1)\ndegrees = np.arange(1, nmax+1, dtype=int)\n\nfig, ax = plt.subplots(1, 1, figsize=(12, 7))\n\nfor deriv, label in enumerate(['nT', 'nT/yr', 'nT/yr$^2$']):\n\n    # get spatial power spectrum from time-dependent internal field in CHAOS\n    spec = model.model_tdep.power_spectrum(time, nmax=nmax, deriv=deriv)\n    ax.semilogy(degrees, spec, label=label)\n\nax.legend()\nax.grid(which='both')\n\nax.yaxis.set_major_locator(ticker.LogLocator(base=10.0, numticks=15))\nax.xaxis.set_major_locator(ticker.MultipleLocator(1))\n\nax.set_title(\"Spatial power spectra at Earth's surface\", fontsize=14)\nax.set_xlabel('Spherical harmonic degree')\n\nplt.tight_layout()\nplt.show()"
      ]
    }
  ],
  "metadata": {
    "kernelspec": {
      "display_name": "Python 3",
      "language": "python",
      "name": "python3"
    },
    "language_info": {
      "codemirror_mode": {
        "name": "ipython",
        "version": 3
      },
      "file_extension": ".py",
      "mimetype": "text/x-python",
      "name": "python",
      "nbconvert_exporter": "python",
      "pygments_lexer": "ipython3",
      "version": "3.9.6"
    }
  },
  "nbformat": 4,
  "nbformat_minor": 0
}