{
  "cells": [
    {
      "cell_type": "code",
      "execution_count": null,
      "metadata": {
        "collapsed": false
      },
      "outputs": [],
      "source": [
        "%matplotlib inline"
      ]
    },
    {
      "cell_type": "markdown",
      "metadata": {},
      "source": [
        "\n# Create a Global Map and Polar Views\n\nCompute a map of the first time-derivative of the radial field component on the\ncore surface in 2016 using CHAOS.\n"
      ]
    },
    {
      "cell_type": "code",
      "execution_count": null,
      "metadata": {
        "collapsed": false
      },
      "outputs": [],
      "source": [
        "import chaosmagpy as cp\nimport numpy as np\nimport matplotlib.pyplot as plt\nimport matplotlib.gridspec as gridspec\nfrom mpl_toolkits.axes_grid1.inset_locator import inset_axes\nimport cartopy.crs as ccrs\n\nmodel = cp.CHAOS.from_mat('CHAOS-6-x9.mat')  # load the mat-file of CHAOS-6-x9\n\ntime = cp.data_utils.mjd2000(2016, 1, 1)  # convert date to mjd2000\nradius = 3485.  # radius of the core surface in km\ntheta = np.linspace(1., 179., 181)  # colatitude in degrees\nphi = np.linspace(-180., 180, 361)  # longitude in degrees\n\n# compute radial SV up to degree 16 using CHAOS\nB, _, _ = model.synth_values_tdep(time, radius, theta, phi,\n                                  nmax=16, deriv=1, grid=True)\n\nlimit = 30e3  # nT colorbar limit\n\n# create figure\nfig = plt.figure(figsize=(12, 8))\n\nfig.subplots_adjust(\n    top=0.98,\n    bottom=0.02,\n    left=0.013,\n    right=0.988,\n    hspace=0.0,\n    wspace=1.0\n)\n\n# make array of axes\ngs = gridspec.GridSpec(2, 2, width_ratios=[0.5, 0.5], height_ratios=[0.35, 0.65])\n\naxes = [\n    plt.subplot(gs[0, 0], projection=ccrs.NearsidePerspective(central_latitude=90.)),\n    plt.subplot(gs[0, 1], projection=ccrs.NearsidePerspective(central_latitude=-90.)),\n    plt.subplot(gs[1, :], projection=ccrs.Mollweide())\n]\n\nfor ax in axes:\n    pc = ax.pcolormesh(phi, 90. - theta, B, cmap='PuOr', vmin=-limit,\n                       vmax=limit, transform=ccrs.PlateCarree())\n    ax.gridlines(linewidth=0.5, linestyle='dashed',\n                 ylocs=np.linspace(-90, 90, num=7),  # parallels\n                 xlocs=np.linspace(-180, 180, num=13))  # meridians\n    ax.coastlines(linewidth=0.5)\n\n# inset axes into global map and move upwards\ncax = inset_axes(axes[-1], width=\"45%\", height=\"5%\", loc='upper center',\n                 borderpad=-12)\n\n# use last artist for the colorbar\nclb = plt.colorbar(pc, cax=cax, extend='both', orientation='horizontal')\nclb.set_label('nT/yr', fontsize=14)\n\nplt.show()"
      ]
    }
  ],
  "metadata": {
    "kernelspec": {
      "display_name": "Python 3",
      "language": "python",
      "name": "python3"
    },
    "language_info": {
      "codemirror_mode": {
        "name": "ipython",
        "version": 3
      },
      "file_extension": ".py",
      "mimetype": "text/x-python",
      "name": "python",
      "nbconvert_exporter": "python",
      "pygments_lexer": "ipython3",
      "version": "3.9.6"
    }
  },
  "nbformat": 4,
  "nbformat_minor": 0
}